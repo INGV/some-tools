{
 "cells": [
  {
   "cell_type": "markdown",
   "id": "23212994-cc9e-4d44-981c-2e4f97bddb5d",
   "metadata": {},
   "source": [
    "# SOME-tools\n",
    "\n",
    "Small tutorial for plotting routines with `some_tools` package and PyGMT library.\n",
    "First of all let's set up the imports"
   ]
  },
  {
   "cell_type": "code",
   "execution_count": 1,
   "id": "bf2fd8f1-9ea6-4fb1-a709-139e0d275801",
   "metadata": {},
   "outputs": [
    {
     "name": "stdout",
     "output_type": "stream",
     "text": [
      "SOME-tools version:  0.0.1\n"
     ]
    }
   ],
   "source": [
    "%matplotlib inline\n",
    "#\n",
    "from obspy import read, UTCDateTime\n",
    "#\n",
    "import some_tools\n",
    "from some_tools import plot_pygmt as SPL\n",
    "# \n",
    "print(\"SOME-tools version:  %s\" % some_tools.__version__)\n",
    "\n"
   ]
  },
  {
   "cell_type": "code",
   "execution_count": 2,
   "id": "b11f49a9-96b5-442b-af99-17d2120c91d3",
   "metadata": {},
   "outputs": [],
   "source": [
    "st = read()\n",
    "tr = st[0]\n",
    "SPL.obspyTrace2GMT(tr)  # this will print it on screen with your default PDF viewer\n",
    "SPL.obspyTrace2GMT(tr, store_name=\"obtr_test.png\", show=False)  # this will store a PDF\n",
    "SPL.obspyTrace2GMT(tr, store_name=\"obtr_test.pdf\", show=False)  # this will store a PNG"
   ]
  },
  {
   "cell_type": "markdown",
   "id": "873d8633-d1cf-45f9-b4f7-ce7b2a090d28",
   "metadata": {},
   "source": [
    "If you have some time series to show, they must be specified as a list of tuple:\n",
    "```\n",
    "picklist = [\n",
    "    ( UTCDateTime, matplotlibDict{}), ...\n",
    "    ]\n",
    "```\n",
    "\n",
    "and add to the `trace.stats` dictionary attributes as `timemarks` (see cell below).\n",
    "\n",
    "The matplotlib dictionary must contain the following keys: `ms` (markersize of the bar),  `color` (the pick color).\n",
    "Optional, though recommended, are: `label` (if you want to label or name the legend)"
   ]
  },
  {
   "cell_type": "code",
   "execution_count": null,
   "id": "5b1f2343-ce8b-4d6e-9f4b-e143c24b6f4b",
   "metadata": {},
   "outputs": [],
   "source": [
    "picktime = UTCDateTime(\"2009-08-24 00:20:07.5\")\n",
    "picklist = [\n",
    "    ( picktime, {'ms': 1.5, 'color': 'red', 'label': 'TestPick'}),\n",
    "    ]\n",
    "#\n",
    "tr.stats.timemarks = picklist\n",
    "SPL.obspyTrace2GMT(tr, plot_time_marks=True)  # this will print it on screen with your default PDF viewer"
   ]
  },
  {
   "cell_type": "markdown",
   "id": "9878636e-78af-4404-b435-1efe938c45a4",
   "metadata": {},
   "source": [
    "If you like to preprocess the stream, use the private `_miniprocess` function.\n",
    "NB: Being it provate it should not be called directly. Rahter it will be set / call by configuration scripts. Her is just for show"
   ]
  },
  {
   "cell_type": "code",
   "execution_count": null,
   "id": "2caf1c61-60e6-4360-9080-cad6ba8bb7e2",
   "metadata": {},
   "outputs": [],
   "source": [
    "SPL.obspyTrace2GMT(SPL._miniprocess(tr, override=False), #override is pretty straightforward ... \n",
    "                   plot_time_marks=True)"
   ]
  },
  {
   "cell_type": "markdown",
   "id": "0c0a4810-8401-4511-b3c5-0aa99de0e5d8",
   "metadata": {},
   "source": [
    "Please note that the X and Y-axis tick-marks intervals are set automatically by the function. If you want to specify them:\n",
    " - `big_x_tick_interval`: refers to the `-Bxa` GMT value\n",
    " - `small_x_tick_interval`: refers to the `-Bxf` GMT value \n",
    " - `big_y_tick_interval`: refers to the `-Bya` GMT value\n",
    " - `small_y_tick_interval`: refers to the `-Byf` GMT value "
   ]
  },
  {
   "cell_type": "code",
   "execution_count": null,
   "id": "c27a2211-b520-4115-ae05-ae6b1f27fe19",
   "metadata": {},
   "outputs": [],
   "source": []
  }
 ],
 "metadata": {
  "kernelspec": {
   "display_name": "Python 3 (ipykernel)",
   "language": "python",
   "name": "python3"
  },
  "language_info": {
   "codemirror_mode": {
    "name": "ipython",
    "version": 3
   },
   "file_extension": ".py",
   "mimetype": "text/x-python",
   "name": "python",
   "nbconvert_exporter": "python",
   "pygments_lexer": "ipython3",
   "version": "3.8.12"
  }
 },
 "nbformat": 4,
 "nbformat_minor": 5
}
