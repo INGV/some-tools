{
 "cells": [
  {
   "cell_type": "markdown",
   "id": "e96c226b-ebba-46ad-a0d1-42c6be9da9b6",
   "metadata": {},
   "source": [
    "# SOME-TOOLS for geographycal map plots\n",
    "\n",
    "Small tutorial for plotting routines with `some_tools` package and PyGMT library.\n",
    "First of all let's set up the imports"
   ]
  },
  {
   "cell_type": "code",
   "execution_count": 1,
   "id": "a62f0e73-0c1b-4950-9e14-8f17c8a1f873",
   "metadata": {},
   "outputs": [
    {
     "name": "stdout",
     "output_type": "stream",
     "text": [
      "SOME-tools version:  0.0.1\n"
     ]
    }
   ],
   "source": [
    "%matplotlib inline\n",
    "import logging\n",
    "import some_tools\n",
    "from some_tools import plot_pygmt as PG\n",
    "#\n",
    "logging.basicConfig(format=\"%(name)s - %(funcName)s [%(levelname)s] %(message)s\",\n",
    "                    level=logging.INFO)\n",
    "print(\"SOME-tools version:  %s\" % some_tools.__version__)\n"
   ]
  },
  {
   "cell_type": "markdown",
   "id": "d805368a-2793-45ba-aba1-90a5c71ee154",
   "metadata": {},
   "source": [
    "From version `0.0.2` the `plot_pygmt` module is class-based. This means that to plot _epicentral maps_, _depth sections_, and _waveforms plot_ (with picks) are now ruled by 2 main classes:\n",
    "\n",
    "- __SomeTraces__ : in charge of plotting waveform traces \n",
    "- __SomeMapping__ : in charge of plotting maps and sections\n",
    "\n",
    "In this book we are going through the 2nd one. Let's use the standard example-catalog from obspy to initialize it ..."
   ]
  },
  {
   "cell_type": "code",
   "execution_count": 2,
   "id": "c181513b-47f2-45e8-b4c0-63e9af8b3229",
   "metadata": {},
   "outputs": [
    {
     "name": "stdout",
     "output_type": "stream",
     "text": [
      "3 Event(s) in Catalog:\n",
      "2012-04-04T14:21:42.300000Z | +41.818,  +79.689 | 4.4 mb | manual\n",
      "2012-04-04T14:18:37.000000Z | +39.342,  +41.044 | 4.3 ML | manual\n",
      "2012-04-04T14:08:46.000000Z | +38.017,  +37.736 | 3.0 ML | manual\n"
     ]
    }
   ],
   "source": [
    "from obspy import read_events\n",
    "cat = read_events()\n",
    "print(cat)"
   ]
  },
  {
   "cell_type": "markdown",
   "id": "a48da50a-b6ac-4db7-82a3-5f275935b6f4",
   "metadata": {},
   "source": [
    "The `SomeMapping` class can be initialized with a DATASET, a GRID-FILE (elevation), and a CONFIGURATION-FILE. Although all of these can be add in a later stage with the dedicated modules:\n",
    "\n",
    "- `set_database`\n",
    "- `set_gridfile`\n",
    "- `set_configfile`\n",
    "\n",
    "At initialization the class will setup automatically all the necessary information for plots"
   ]
  },
  {
   "cell_type": "code",
   "execution_count": 3,
   "id": "52e2e19b-6b7c-4bd6-9a0b-d85dae81999b",
   "metadata": {},
   "outputs": [
    {
     "name": "stderr",
     "output_type": "stream",
     "text": [
      "some_tools.plot_pygmt - _setup_class_plot_map [WARNING] Missing database! `auto_scale` and `auto_frame` options will be ignored!\n",
      "some_tools.plot_pygmt - _setup_class_plot_map [WARNING] Overriding the default MAP plot class-attributes!\n",
      "some_tools.plot_pygmt - _setup_class_plot_sect [WARNING] Missing database! `auto_scale` and `auto_frame` options will be ignored!\n",
      "some_tools.plot_pygmt - _setup_class_plot_sect [WARNING] Overriding the default SECT plot class-attributes!\n"
     ]
    }
   ],
   "source": [
    "SM = PG.SomeMapping()"
   ]
  },
  {
   "cell_type": "markdown",
   "id": "d28b7c95-7ce0-418c-8781-38c61c681bd7",
   "metadata": {},
   "source": [
    "These WARNINGS are totally normal, because the provate methods `_setup_class_plot_map` and `_setup_class_plot_sect` are called at the start (in this case, no data was provided). Of course, they are responsible of changing the region, projection, and frame attribute both for maps and sections respectively. No worries... in fact if we initialize with a dataset, the `Missing database` warning will disappear"
   ]
  },
  {
   "cell_type": "code",
   "execution_count": 4,
   "id": "63614f9f-be79-4d30-867c-f92ce0eff140",
   "metadata": {},
   "outputs": [
    {
     "name": "stderr",
     "output_type": "stream",
     "text": [
      "some_tools.plot_pygmt - _setup_class_plot_map [WARNING] Overriding the default MAP plot class-attributes!\n",
      "some_tools.plot_pygmt - _setup_class_plot_sect [WARNING] Overriding the default SECT plot class-attributes!\n"
     ]
    },
    {
     "data": {
      "text/html": [
       "<div>\n",
       "<style scoped>\n",
       "    .dataframe tbody tr th:only-of-type {\n",
       "        vertical-align: middle;\n",
       "    }\n",
       "\n",
       "    .dataframe tbody tr th {\n",
       "        vertical-align: top;\n",
       "    }\n",
       "\n",
       "    .dataframe thead th {\n",
       "        text-align: right;\n",
       "    }\n",
       "</style>\n",
       "<table border=\"1\" class=\"dataframe\">\n",
       "  <thead>\n",
       "    <tr style=\"text-align: right;\">\n",
       "      <th></th>\n",
       "      <th>ID</th>\n",
       "      <th>OT</th>\n",
       "      <th>LON</th>\n",
       "      <th>LAT</th>\n",
       "      <th>DEP</th>\n",
       "      <th>MAG</th>\n",
       "      <th>MAGTYPE</th>\n",
       "    </tr>\n",
       "  </thead>\n",
       "  <tbody>\n",
       "    <tr>\n",
       "      <th>0</th>\n",
       "      <td>opcat_1</td>\n",
       "      <td>2012-04-04 14:21:42.300</td>\n",
       "      <td>79.689</td>\n",
       "      <td>41.818</td>\n",
       "      <td>1.0</td>\n",
       "      <td>4.4</td>\n",
       "      <td>mb</td>\n",
       "    </tr>\n",
       "    <tr>\n",
       "      <th>1</th>\n",
       "      <td>opcat_2</td>\n",
       "      <td>2012-04-04 14:18:37.000</td>\n",
       "      <td>41.044</td>\n",
       "      <td>39.342</td>\n",
       "      <td>14.4</td>\n",
       "      <td>4.3</td>\n",
       "      <td>ML</td>\n",
       "    </tr>\n",
       "    <tr>\n",
       "      <th>2</th>\n",
       "      <td>opcat_3</td>\n",
       "      <td>2012-04-04 14:08:46.000</td>\n",
       "      <td>37.736</td>\n",
       "      <td>38.017</td>\n",
       "      <td>7.0</td>\n",
       "      <td>3.0</td>\n",
       "      <td>ML</td>\n",
       "    </tr>\n",
       "  </tbody>\n",
       "</table>\n",
       "</div>"
      ],
      "text/plain": [
       "        ID                      OT     LON     LAT   DEP  MAG MAGTYPE\n",
       "0  opcat_1 2012-04-04 14:21:42.300  79.689  41.818   1.0  4.4      mb\n",
       "1  opcat_2 2012-04-04 14:18:37.000  41.044  39.342  14.4  4.3      ML\n",
       "2  opcat_3 2012-04-04 14:08:46.000  37.736  38.017   7.0  3.0      ML"
      ]
     },
     "execution_count": 4,
     "metadata": {},
     "output_type": "execute_result"
    }
   ],
   "source": [
    "SM = PG.SomeMapping(cat)\n",
    "dataframe = SM.get_database()\n",
    "dataframe.head()"
   ]
  },
  {
   "cell_type": "markdown",
   "id": "4e95a063-6816-4ce7-8876-883dad132f73",
   "metadata": {},
   "source": [
    "As you see, the class automatically detect that the dataset (catalog) inserted is an `obspy.Catalog` instance and it is converted as a `pandas.DataFrame`.\n",
    "\n",
    "The class, is also able to read a csv file (with proper headers). The import methods are able to detect column names similar (or equal) to the following **ID**, **OT**, **LON**, **LAT**, **MAG**, **MAGTYPE**.\n",
    "In fact, a test dataset, like the following:"
   ]
  },
  {
   "cell_type": "code",
   "execution_count": 5,
   "id": "b0730c30-10cb-4b51-a7cb-10024ca91708",
   "metadata": {},
   "outputs": [
    {
     "name": "stderr",
     "output_type": "stream",
     "text": [
      "some_tools.plot_pygmt - set_database [INFO] Setting database file ...\n"
     ]
    },
    {
     "ename": "KeyError",
     "evalue": "\"['ID', 'OT', 'MAGTYPE'] not in index\"",
     "output_type": "error",
     "traceback": [
      "\u001b[0;31m---------------------------------------------------------------------------\u001b[0m",
      "\u001b[0;31mKeyError\u001b[0m                                  Traceback (most recent call last)",
      "Input \u001b[0;32mIn [5]\u001b[0m, in \u001b[0;36m<module>\u001b[0;34m\u001b[0m\n\u001b[1;32m      4\u001b[0m fake\u001b[38;5;241m.\u001b[39mhead()\n\u001b[1;32m      6\u001b[0m \u001b[38;5;66;03m# It will be correctly parsed internally by the class ...\u001b[39;00m\n\u001b[0;32m----> 7\u001b[0m \u001b[43mSM\u001b[49m\u001b[38;5;241;43m.\u001b[39;49m\u001b[43mset_database\u001b[49m\u001b[43m(\u001b[49m\u001b[43mgapss_data\u001b[49m\u001b[43m)\u001b[49m\n\u001b[1;32m      8\u001b[0m dataframe \u001b[38;5;241m=\u001b[39m SM\u001b[38;5;241m.\u001b[39mget_database()\n\u001b[1;32m      9\u001b[0m dataframe\u001b[38;5;241m.\u001b[39mhead()\n",
      "File \u001b[0;32m~/miniconda3/envs/pygmt/lib/python3.8/site-packages/some_tools/plot_pygmt.py:503\u001b[0m, in \u001b[0;36mSomeMapping.set_database\u001b[0;34m(self, data)\u001b[0m\n\u001b[1;32m    501\u001b[0m \u001b[38;5;28;01mdef\u001b[39;00m \u001b[38;5;21mset_database\u001b[39m(\u001b[38;5;28mself\u001b[39m, data):\n\u001b[1;32m    502\u001b[0m     logger\u001b[38;5;241m.\u001b[39minfo(\u001b[38;5;124m\"\u001b[39m\u001b[38;5;124mSetting database file ...\u001b[39m\u001b[38;5;124m\"\u001b[39m)\n\u001b[0;32m--> 503\u001b[0m     \u001b[38;5;28;43mself\u001b[39;49m\u001b[38;5;241;43m.\u001b[39;49m\u001b[43m_setup_database\u001b[49m\u001b[43m(\u001b[49m\u001b[43mdata\u001b[49m\u001b[43m)\u001b[49m\n",
      "File \u001b[0;32m~/miniconda3/envs/pygmt/lib/python3.8/site-packages/some_tools/plot_pygmt.py:443\u001b[0m, in \u001b[0;36mSomeMapping._setup_database\u001b[0;34m(self, data)\u001b[0m\n\u001b[1;32m    441\u001b[0m     \u001b[38;5;28;01mif\u001b[39;00m _data_path\u001b[38;5;241m.\u001b[39mis_file() \u001b[38;5;129;01mand\u001b[39;00m _data_path\u001b[38;5;241m.\u001b[39mexists():\n\u001b[1;32m    442\u001b[0m         _data_frame \u001b[38;5;241m=\u001b[39m pd\u001b[38;5;241m.\u001b[39mread_csv(_data_path)\n\u001b[0;32m--> 443\u001b[0m         \u001b[38;5;28;43mself\u001b[39;49m\u001b[38;5;241;43m.\u001b[39;49m\u001b[43m_pandas2data\u001b[49m\u001b[43m(\u001b[49m\u001b[43m_data_frame\u001b[49m\u001b[43m)\u001b[49m\n\u001b[1;32m    444\u001b[0m \u001b[38;5;28;01melif\u001b[39;00m \u001b[38;5;28misinstance\u001b[39m(data, pd\u001b[38;5;241m.\u001b[39mDataFrame):\n\u001b[1;32m    445\u001b[0m     \u001b[38;5;66;03m# pandas Dataframe --> simply append\u001b[39;00m\n\u001b[1;32m    446\u001b[0m     \u001b[38;5;28mself\u001b[39m\u001b[38;5;241m.\u001b[39m_pandas2data(data)\n",
      "File \u001b[0;32m~/miniconda3/envs/pygmt/lib/python3.8/site-packages/some_tools/plot_pygmt.py:459\u001b[0m, in \u001b[0;36mSomeMapping._pandas2data\u001b[0;34m(self, data_frame)\u001b[0m\n\u001b[1;32m    457\u001b[0m \u001b[38;5;28;01mdef\u001b[39;00m \u001b[38;5;21m_pandas2data\u001b[39m(\u001b[38;5;28mself\u001b[39m, data_frame):\n\u001b[1;32m    458\u001b[0m     \u001b[38;5;28mself\u001b[39m\u001b[38;5;241m.\u001b[39mdf \u001b[38;5;241m=\u001b[39m data_frame\u001b[38;5;241m.\u001b[39mcopy()\n\u001b[0;32m--> 459\u001b[0m     \u001b[38;5;28;43mself\u001b[39;49m\u001b[38;5;241;43m.\u001b[39;49m\u001b[43m_pd_select_columns\u001b[49m\u001b[43m(\u001b[49m\u001b[43m)\u001b[49m\n",
      "File \u001b[0;32m~/miniconda3/envs/pygmt/lib/python3.8/site-packages/some_tools/plot_pygmt.py:435\u001b[0m, in \u001b[0;36mSomeMapping._pd_select_columns\u001b[0;34m(self)\u001b[0m\n\u001b[1;32m    433\u001b[0m         \u001b[38;5;28;01mcontinue\u001b[39;00m\n\u001b[1;32m    434\u001b[0m \u001b[38;5;66;03m# --- Extract\u001b[39;00m\n\u001b[0;32m--> 435\u001b[0m \u001b[38;5;28mself\u001b[39m\u001b[38;5;241m.\u001b[39mdf \u001b[38;5;241m=\u001b[39m \u001b[38;5;28;43mself\u001b[39;49m\u001b[38;5;241;43m.\u001b[39;49m\u001b[43mdf\u001b[49m\u001b[43m[\u001b[49m\u001b[43m[\u001b[49m\u001b[38;5;124;43m\"\u001b[39;49m\u001b[38;5;124;43mID\u001b[39;49m\u001b[38;5;124;43m\"\u001b[39;49m\u001b[43m,\u001b[49m\u001b[43m \u001b[49m\u001b[38;5;124;43m\"\u001b[39;49m\u001b[38;5;124;43mOT\u001b[39;49m\u001b[38;5;124;43m\"\u001b[39;49m\u001b[43m,\u001b[49m\u001b[43m \u001b[49m\u001b[38;5;124;43m\"\u001b[39;49m\u001b[38;5;124;43mLON\u001b[39;49m\u001b[38;5;124;43m\"\u001b[39;49m\u001b[43m,\u001b[49m\u001b[43m \u001b[49m\u001b[38;5;124;43m\"\u001b[39;49m\u001b[38;5;124;43mLAT\u001b[39;49m\u001b[38;5;124;43m\"\u001b[39;49m\u001b[43m,\u001b[49m\u001b[43m \u001b[49m\u001b[38;5;124;43m\"\u001b[39;49m\u001b[38;5;124;43mDEP\u001b[39;49m\u001b[38;5;124;43m\"\u001b[39;49m\u001b[43m,\u001b[49m\u001b[43m \u001b[49m\u001b[38;5;124;43m\"\u001b[39;49m\u001b[38;5;124;43mMAG\u001b[39;49m\u001b[38;5;124;43m\"\u001b[39;49m\u001b[43m,\u001b[49m\u001b[43m \u001b[49m\u001b[38;5;124;43m\"\u001b[39;49m\u001b[38;5;124;43mMAGTYPE\u001b[39;49m\u001b[38;5;124;43m\"\u001b[39;49m\u001b[43m]\u001b[49m\u001b[43m]\u001b[49m\n",
      "File \u001b[0;32m~/miniconda3/envs/pygmt/lib/python3.8/site-packages/pandas/core/frame.py:3464\u001b[0m, in \u001b[0;36mDataFrame.__getitem__\u001b[0;34m(self, key)\u001b[0m\n\u001b[1;32m   3462\u001b[0m     \u001b[38;5;28;01mif\u001b[39;00m is_iterator(key):\n\u001b[1;32m   3463\u001b[0m         key \u001b[38;5;241m=\u001b[39m \u001b[38;5;28mlist\u001b[39m(key)\n\u001b[0;32m-> 3464\u001b[0m     indexer \u001b[38;5;241m=\u001b[39m \u001b[38;5;28;43mself\u001b[39;49m\u001b[38;5;241;43m.\u001b[39;49m\u001b[43mloc\u001b[49m\u001b[38;5;241;43m.\u001b[39;49m\u001b[43m_get_listlike_indexer\u001b[49m\u001b[43m(\u001b[49m\u001b[43mkey\u001b[49m\u001b[43m,\u001b[49m\u001b[43m \u001b[49m\u001b[43maxis\u001b[49m\u001b[38;5;241;43m=\u001b[39;49m\u001b[38;5;241;43m1\u001b[39;49m\u001b[43m)\u001b[49m[\u001b[38;5;241m1\u001b[39m]\n\u001b[1;32m   3466\u001b[0m \u001b[38;5;66;03m# take() does not accept boolean indexers\u001b[39;00m\n\u001b[1;32m   3467\u001b[0m \u001b[38;5;28;01mif\u001b[39;00m \u001b[38;5;28mgetattr\u001b[39m(indexer, \u001b[38;5;124m\"\u001b[39m\u001b[38;5;124mdtype\u001b[39m\u001b[38;5;124m\"\u001b[39m, \u001b[38;5;28;01mNone\u001b[39;00m) \u001b[38;5;241m==\u001b[39m \u001b[38;5;28mbool\u001b[39m:\n",
      "File \u001b[0;32m~/miniconda3/envs/pygmt/lib/python3.8/site-packages/pandas/core/indexing.py:1314\u001b[0m, in \u001b[0;36m_LocIndexer._get_listlike_indexer\u001b[0;34m(self, key, axis)\u001b[0m\n\u001b[1;32m   1311\u001b[0m \u001b[38;5;28;01melse\u001b[39;00m:\n\u001b[1;32m   1312\u001b[0m     keyarr, indexer, new_indexer \u001b[38;5;241m=\u001b[39m ax\u001b[38;5;241m.\u001b[39m_reindex_non_unique(keyarr)\n\u001b[0;32m-> 1314\u001b[0m \u001b[38;5;28;43mself\u001b[39;49m\u001b[38;5;241;43m.\u001b[39;49m\u001b[43m_validate_read_indexer\u001b[49m\u001b[43m(\u001b[49m\u001b[43mkeyarr\u001b[49m\u001b[43m,\u001b[49m\u001b[43m \u001b[49m\u001b[43mindexer\u001b[49m\u001b[43m,\u001b[49m\u001b[43m \u001b[49m\u001b[43maxis\u001b[49m\u001b[43m)\u001b[49m\n\u001b[1;32m   1316\u001b[0m \u001b[38;5;28;01mif\u001b[39;00m needs_i8_conversion(ax\u001b[38;5;241m.\u001b[39mdtype) \u001b[38;5;129;01mor\u001b[39;00m \u001b[38;5;28misinstance\u001b[39m(\n\u001b[1;32m   1317\u001b[0m     ax, (IntervalIndex, CategoricalIndex)\n\u001b[1;32m   1318\u001b[0m ):\n\u001b[1;32m   1319\u001b[0m     \u001b[38;5;66;03m# For CategoricalIndex take instead of reindex to preserve dtype.\u001b[39;00m\n\u001b[1;32m   1320\u001b[0m     \u001b[38;5;66;03m#  For IntervalIndex this is to map integers to the Intervals they match to.\u001b[39;00m\n\u001b[1;32m   1321\u001b[0m     keyarr \u001b[38;5;241m=\u001b[39m ax\u001b[38;5;241m.\u001b[39mtake(indexer)\n",
      "File \u001b[0;32m~/miniconda3/envs/pygmt/lib/python3.8/site-packages/pandas/core/indexing.py:1377\u001b[0m, in \u001b[0;36m_LocIndexer._validate_read_indexer\u001b[0;34m(self, key, indexer, axis)\u001b[0m\n\u001b[1;32m   1374\u001b[0m     \u001b[38;5;28;01mraise\u001b[39;00m \u001b[38;5;167;01mKeyError\u001b[39;00m(\u001b[38;5;124mf\u001b[39m\u001b[38;5;124m\"\u001b[39m\u001b[38;5;124mNone of [\u001b[39m\u001b[38;5;132;01m{\u001b[39;00mkey\u001b[38;5;132;01m}\u001b[39;00m\u001b[38;5;124m] are in the [\u001b[39m\u001b[38;5;132;01m{\u001b[39;00maxis_name\u001b[38;5;132;01m}\u001b[39;00m\u001b[38;5;124m]\u001b[39m\u001b[38;5;124m\"\u001b[39m)\n\u001b[1;32m   1376\u001b[0m not_found \u001b[38;5;241m=\u001b[39m \u001b[38;5;28mlist\u001b[39m(ensure_index(key)[missing_mask\u001b[38;5;241m.\u001b[39mnonzero()[\u001b[38;5;241m0\u001b[39m]]\u001b[38;5;241m.\u001b[39munique())\n\u001b[0;32m-> 1377\u001b[0m \u001b[38;5;28;01mraise\u001b[39;00m \u001b[38;5;167;01mKeyError\u001b[39;00m(\u001b[38;5;124mf\u001b[39m\u001b[38;5;124m\"\u001b[39m\u001b[38;5;132;01m{\u001b[39;00mnot_found\u001b[38;5;132;01m}\u001b[39;00m\u001b[38;5;124m not in index\u001b[39m\u001b[38;5;124m\"\u001b[39m)\n",
      "\u001b[0;31mKeyError\u001b[0m: \"['ID', 'OT', 'MAGTYPE'] not in index\""
     ]
    }
   ],
   "source": [
    "gapss_data = \"./database/gapss_initial_events.csv\"\n",
    "from pandas import read_csv\n",
    "fake = read_csv(gapss_data)\n",
    "fake.head()\n",
    "\n",
    "# It will be correctly parsed internally by the class ...\n",
    "SM.set_database(gapss_data)\n",
    "dataframe = SM.get_database()\n",
    "dataframe.head()\n"
   ]
  },
  {
   "cell_type": "code",
   "execution_count": null,
   "id": "e56fd5a3-139e-4610-abf8-f88322e9735b",
   "metadata": {},
   "outputs": [],
   "source": []
  },
  {
   "cell_type": "code",
   "execution_count": null,
   "id": "f5f7f813-0c06-410c-bcc4-78e4d35c3447",
   "metadata": {},
   "outputs": [],
   "source": []
  }
 ],
 "metadata": {
  "kernelspec": {
   "display_name": "Python 3 (ipykernel)",
   "language": "python",
   "name": "python3"
  },
  "language_info": {
   "codemirror_mode": {
    "name": "ipython",
    "version": 3
   },
   "file_extension": ".py",
   "mimetype": "text/x-python",
   "name": "python",
   "nbconvert_exporter": "python",
   "pygments_lexer": "ipython3",
   "version": "3.8.12"
  }
 },
 "nbformat": 4,
 "nbformat_minor": 5
}
