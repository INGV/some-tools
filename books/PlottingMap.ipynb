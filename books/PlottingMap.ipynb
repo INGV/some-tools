{
 "cells": [
  {
   "cell_type": "markdown",
   "id": "e96c226b-ebba-46ad-a0d1-42c6be9da9b6",
   "metadata": {},
   "source": [
    "# SOME-TOOLS for geographycal map plots\n",
    "\n",
    "Small tutorial for plotting routines with `some_tools` package and PyGMT library.\n",
    "First of all let's set up the imports"
   ]
  },
  {
   "cell_type": "code",
   "execution_count": 2,
   "id": "a62f0e73-0c1b-4950-9e14-8f17c8a1f873",
   "metadata": {},
   "outputs": [],
   "source": [
    "%matplotlib inline\n",
    "#\n",
    "from obspy import read_events(), UTCDateTime\n",
    "#\n",
    "import some_tools\n",
    "from some_tools import plot_pygmt as SPL\n",
    "# \n",
    "print(\"SOME-tools version:  %s\" % some_tools.__version__)\n",
    "\n",
    "cat = read_events()"
   ]
  },
  {
   "cell_type": "markdown",
   "id": "d805368a-2793-45ba-aba1-90a5c71ee154",
   "metadata": {},
   "source": [
    "To simply plot a catalog with fixed scale for magnitude"
   ]
  },
  {
   "cell_type": "code",
   "execution_count": null,
   "id": "c181513b-47f2-45e8-b4c0-63e9af8b3229",
   "metadata": {},
   "outputs": [],
   "source": []
  }
 ],
 "metadata": {
  "kernelspec": {
   "display_name": "Python 3 (ipykernel)",
   "language": "python",
   "name": "python3"
  },
  "language_info": {
   "codemirror_mode": {
    "name": "ipython",
    "version": 3
   },
   "file_extension": ".py",
   "mimetype": "text/x-python",
   "name": "python",
   "nbconvert_exporter": "python",
   "pygments_lexer": "ipython3",
   "version": "3.8.12"
  }
 },
 "nbformat": 4,
 "nbformat_minor": 5
}
